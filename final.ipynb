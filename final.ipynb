{
 "cells": [
  {
   "cell_type": "code",
   "execution_count": 2,
   "id": "0b7e0d7b-7379-4835-88c8-aa883651db4c",
   "metadata": {},
   "outputs": [],
   "source": [
    "import math\n",
    "import random\n",
    "import os\n",
    "\n",
    "import igl\n",
    "import numpy as np\n",
    "import meshplot as mp\n",
    "import scipy as sp\n",
    "import ipywidgets as iw\n",
    "\n",
    "from PIL import Image"
   ]
  },
  {
   "cell_type": "code",
   "execution_count": 3,
   "id": "edc7669f-c69b-46a2-8df9-3dad7f8d11a5",
   "metadata": {},
   "outputs": [],
   "source": [
    "from scipy.optimize import minimize"
   ]
  },
  {
   "cell_type": "markdown",
   "id": "82d7d492-eee2-4391-b06d-eaed98f0a60a",
   "metadata": {},
   "source": [
    "# Extract Feature Lines with threshold for crease detection"
   ]
  },
  {
   "cell_type": "code",
   "execution_count": 4,
   "id": "1c25fb65-c701-46d6-b71b-e4a906557a16",
   "metadata": {},
   "outputs": [
    {
     "data": {
      "application/vnd.jupyter.widget-view+json": {
       "model_id": "2256d3bfa39c4b1f865a75b5928b5c55",
       "version_major": 2,
       "version_minor": 0
      },
      "text/plain": [
       "Renderer(camera=PerspectiveCamera(children=(DirectionalLight(color='white', intensity=0.6, position=(1.9967555…"
      ]
     },
     "metadata": {},
     "output_type": "display_data"
    },
    {
     "data": {
      "text/plain": [
       "1"
      ]
     },
     "execution_count": 4,
     "metadata": {},
     "output_type": "execute_result"
    }
   ],
   "source": [
    "def feature_edges(v,f,threshold):\n",
    "    edge_faces = []\n",
    "\n",
    "    dihedral_threshold = threshold/180 * np.pi\n",
    "    f_normals = igl.per_face_normals(v,f,np.ndarray([0,0]))\n",
    "    edge_flaps = igl.edge_flaps(f)\n",
    "    edges = edge_flaps[0]\n",
    "    \n",
    "    threshold_edges = []\n",
    "    for i in range(edges.shape[0]):\n",
    "        # find normals of faces connecting edge\n",
    "        edge_face_norms = f_normals[edge_flaps[2][i]]\n",
    "\n",
    "        # find dihedral angle between edge faces\n",
    "        f1n = edge_face_norms[0] / np.linalg.norm(edge_face_norms[0])\n",
    "        f2n = edge_face_norms[1] / np.linalg.norm(edge_face_norms[1])\n",
    "        dihedral_angle = np.arccos(np.clip(np.dot(f1n, f2n), -1.0, 1.0))\n",
    "\n",
    "        # add angles greater than threshold to list\n",
    "        if dihedral_angle > dihedral_threshold or (-1 in edge_flaps[2][i]):\n",
    "            threshold_edges.append(edges[i])\n",
    "            \n",
    "            # add edge faces to list\n",
    "            if edge_flaps[2][i][0] != -1:\n",
    "                edge_faces.append(edge_flaps[2][i][0])\n",
    "            if edge_flaps[2][i][1] != -1:\n",
    "                edge_faces.append(edge_flaps[2][i][1])\n",
    "\n",
    "    threshold_edges = np.array(threshold_edges)\n",
    "    return threshold_edges, edge_faces\n",
    "\n",
    "\n",
    "\n",
    "v, f = igl.read_triangle_mesh(\"data/camel_head.off\")\n",
    "feature_edge_list, edge_faces = feature_edges(v,f,10)\n",
    "\n",
    "col = np.ones_like(f)\n",
    "col[edge_faces, 1:] = 0\n",
    "\n",
    "p = mp.plot(v, f, c=col, shading={\"wireframe\": 0})\n",
    "p.add_lines(v[feature_edge_list][:,0], v[feature_edge_list][:,1], shading={\"line_color\": \"yellow\"})"
   ]
  },
  {
   "cell_type": "markdown",
   "id": "23a9f1d4-0843-4fca-9842-07c3fc8e085d",
   "metadata": {},
   "source": [
    "# Parameterize mesh into UV plane (Harmonic)"
   ]
  },
  {
   "cell_type": "code",
   "execution_count": 5,
   "id": "a0ad63e6-04fc-43f4-977e-7913411b0141",
   "metadata": {},
   "outputs": [
    {
     "data": {
      "application/vnd.jupyter.widget-view+json": {
       "model_id": "5da09aaa1fa74dcc91e922999ae3620d",
       "version_major": 2,
       "version_minor": 0
      },
      "text/plain": [
       "Renderer(camera=PerspectiveCamera(children=(DirectionalLight(color='white', intensity=0.6, position=(1.9967555…"
      ]
     },
     "metadata": {},
     "output_type": "display_data"
    },
    {
     "data": {
      "application/vnd.jupyter.widget-view+json": {
       "model_id": "18e688f5290747cb8d2bd0de02c04c3c",
       "version_major": 2,
       "version_minor": 0
      },
      "text/plain": [
       "interactive(children=(Dropdown(description='mode', options=('2D', '3D'), value='2D'), Output()), _dom_classes=…"
      ]
     },
     "metadata": {},
     "output_type": "display_data"
    }
   ],
   "source": [
    "def circle_to_square(x_circ,y_circ):\n",
    "    x = 0.5 * np.sqrt( 2 + x_circ**2 - y_circ**2 + 2*x_circ*np.sqrt(2) ) - 0.5 * np.sqrt( 2 + x_circ**2 - y_circ**2 - 2*x_circ*np.sqrt(2) )\n",
    "    y = 0.5 * np.sqrt( 2 - x_circ**2 + y_circ**2 + 2*y_circ*np.sqrt(2) ) - 0.5 * np.sqrt( 2 - x_circ**2 + y_circ**2 - 2*y_circ*np.sqrt(2) )\n",
    "    x = round(max(min(1,x),-1),5)\n",
    "    y = round(max(min(1,y),-1),5)\n",
    "    return [x,y]\n",
    "\n",
    "def parametrize(v,f):\n",
    "    ## Find the open boundary\n",
    "    bnd = igl.boundary_loop(f)\n",
    "    \n",
    "    ## Map the boundary to a circle, preserving edge proportions\n",
    "    bnd_uv = igl.map_vertices_to_circle(v, bnd)\n",
    "    \n",
    "    # remap circle boundary onto square\n",
    "    bnd_uv = np.array([circle_to_square(x_circ,y_circ) for [x_circ,y_circ] in bnd_uv])\n",
    "\n",
    "    # force points into corners\n",
    "    TL = np.array([-1,1])\n",
    "    TR = np.array([1,1])\n",
    "    BL = np.array([-1,-1])\n",
    "    BR = np.array([1,-1])\n",
    "    bndTL = 0\n",
    "    bndTR = 0\n",
    "    bndBL = 0\n",
    "    bndBR = 0\n",
    "    for coordi, coord in enumerate(bnd_uv):\n",
    "        if np.linalg.norm(coord-TL) < np.linalg.norm(bnd_uv[bndTL]-TL):\n",
    "            bndTL = coordi\n",
    "        if np.linalg.norm(coord-TR) < np.linalg.norm(bnd_uv[bndTR]-TR):\n",
    "            bndTR = coordi\n",
    "        if np.linalg.norm(coord-BL) < np.linalg.norm(bnd_uv[bndBL]-BL):\n",
    "            bndBL = coordi\n",
    "        if np.linalg.norm(coord-BR) < np.linalg.norm(bnd_uv[bndBR]-BR):\n",
    "            bndBR = coordi\n",
    "\n",
    "    bnd_uv[bndTL] = TL\n",
    "    bnd_uv[bndTR] = TR\n",
    "    bnd_uv[bndBL] = BL\n",
    "    bnd_uv[bndBR] = BR\n",
    "    \n",
    "    ## Harmonic parametrization for the internal vertices\n",
    "    return igl.harmonic(v, f, bnd, bnd_uv, 1)\n",
    "\n",
    "v, f = igl.read_triangle_mesh(\"data/camel_head.off\")\n",
    "uv = parametrize(v,f)\n",
    "feature_edge_list, _ = feature_edges(v,f,20)\n",
    "\n",
    "\n",
    "p = mp.plot(v, f, c=np.ones_like(f), shading={\"wireframe\": False})\n",
    "p.add_lines(v[feature_edge_list][:,0], v[feature_edge_list][:,1], shading={\"line_color\": \"yellow\"})\n",
    "@iw.interact(mode=['2D','3D'])\n",
    "def switch(mode):\n",
    "    if mode == \"3D\":\n",
    "        mp.plot(v, f, c=uv[:,0],shading={\"wireframe\": 0}, plot=p)\n",
    "        p.add_lines(v[feature_edge_list][:,0], v[feature_edge_list][:,1], shading={\"line_color\": \"yellow\"})\n",
    "        \n",
    "    if mode == \"2D\":\n",
    "        mp.plot(uv, f, c=uv[:,0], shading={\"wireframe\": 1, \"line_width\":0.2}, plot=p)\n",
    "        p.add_lines(uv[feature_edge_list][:,0], uv[feature_edge_list][:,1], shading={\"line_color\": \"yellow\"})\n",
    "        p.add_points(uv, shading={\"point_size\": .04})"
   ]
  },
  {
   "cell_type": "markdown",
   "id": "17d46c6c-815a-4d07-a9d4-3aed956da54c",
   "metadata": {},
   "source": [
    "# Area Distortion"
   ]
  },
  {
   "cell_type": "code",
   "execution_count": 6,
   "id": "582dfe6a-d7e9-41f3-9047-e707331eda3b",
   "metadata": {},
   "outputs": [
    {
     "data": {
      "application/vnd.jupyter.widget-view+json": {
       "model_id": "ca8796a8759942c496316de9cc0dee7a",
       "version_major": 2,
       "version_minor": 0
      },
      "text/plain": [
       "Renderer(camera=PerspectiveCamera(children=(DirectionalLight(color='white', intensity=0.6, position=(0.0, 0.0,…"
      ]
     },
     "metadata": {},
     "output_type": "display_data"
    },
    {
     "data": {
      "text/plain": [
       "2"
      ]
     },
     "execution_count": 6,
     "metadata": {},
     "output_type": "execute_result"
    }
   ],
   "source": [
    "def normalizeZeroToOne(arr):\n",
    "    if(min(arr) < 0):\n",
    "        arr -= min(arr)\n",
    "    return (1/max(arr)) * arr\n",
    "    \n",
    "def areaDistortion(v,uv,f):\n",
    "    a3d = igl.doublearea(v,f)\n",
    "    a2d = igl.doublearea(uv,f)\n",
    "\n",
    "    VF, NI = igl.vertex_triangle_adjacency(f,v.shape[0])\n",
    "    face_area_distortion = a3d/a2d\n",
    "\n",
    "    vert_area_distortion = np.zeros_like(v[:,0])\n",
    "    for i in range(v.shape[0]):\n",
    "        face0 = NI[i]\n",
    "        facen = NI[i+1]\n",
    "        faces = VF[face0:facen]\n",
    "        faceAreas = a3d[faces]\n",
    "        faceAreas = (1/np.sum(faceAreas)) * faceAreas\n",
    "        #print(i, faces,faceAreas)\n",
    "\n",
    "        vertAD = 0\n",
    "        for facei, face in enumerate(faces):\n",
    "            vertAD += face_area_distortion[face] * faceAreas[facei]\n",
    "        vert_area_distortion[i] = vertAD\n",
    "\n",
    "    return normalizeZeroToOne(vert_area_distortion)\n",
    "\n",
    "\n",
    "v, f = igl.read_triangle_mesh(\"data/camel_head.off\")\n",
    "uv = parametrize(v,f)\n",
    "feature_edge_list, _ = feature_edges(v,f,10)\n",
    "area_distortion = areaDistortion(v,uv,f)\n",
    "\n",
    "a = mp.plot(uv, f, c=area_distortion, shading={\"wireframe\": 0, \"line_width\":0.2})\n",
    "a.add_lines(uv[feature_edge_list][:,0], uv[feature_edge_list][:,1], shading={\"line_color\": \"black\"})\n",
    "a.add_points(uv, shading={\"point_size\": .03, \"point_color\": \"black\"})\n"
   ]
  },
  {
   "cell_type": "markdown",
   "id": "9b352f07-ca0b-433c-a528-832641634fd2",
   "metadata": {},
   "source": [
    "# Minimize area distortion"
   ]
  },
  {
   "cell_type": "code",
   "execution_count": 7,
   "id": "9829d56d-9456-4d9c-8a84-618760339007",
   "metadata": {},
   "outputs": [],
   "source": [
    "def optimize_uv(v, uv, f):\n",
    "    a3d = igl.doublearea(v, f) / 2.0\n",
    "    def objective(uv_flat):\n",
    "        uv = uv_flat.reshape(-1, 2)\n",
    "        a2d = igl.doublearea(uv, f) / 2.0 \n",
    "        return np.sum((a3d - a2d)**2) \n",
    "\n",
    "    result = minimize(objective, uv.ravel(), method='L-BFGS-B', options={'disp': True})\n",
    "    \n",
    "    return result.x.reshape(-1, 2)\n",
    "optimized_uv = optimize_uv(v, uv, f)\n",
    "\n"
   ]
  },
  {
   "cell_type": "code",
   "execution_count": 8,
   "id": "adc6dbd7-e68c-4543-ab5c-4e652131240c",
   "metadata": {},
   "outputs": [
    {
     "data": {
      "application/vnd.jupyter.widget-view+json": {
       "model_id": "6fc44480ce0947129de88eb9954a9e70",
       "version_major": 2,
       "version_minor": 0
      },
      "text/plain": [
       "Renderer(camera=PerspectiveCamera(children=(DirectionalLight(color='white', intensity=0.6, position=(0.0074865…"
      ]
     },
     "metadata": {},
     "output_type": "display_data"
    },
    {
     "data": {
      "text/plain": [
       "2"
      ]
     },
     "execution_count": 8,
     "metadata": {},
     "output_type": "execute_result"
    }
   ],
   "source": [
    "area_distortion = areaDistortion(v, optimized_uv, f)\n",
    "a = mp.plot(optimized_uv, f, c=area_distortion, shading={\"wireframe\": 0, \"line_width\":0.2})\n",
    "a.add_lines(optimized_uv[feature_edge_list][:,0], optimized_uv[feature_edge_list][:,1], shading={\"line_color\": \"black\"})\n",
    "a.add_points(optimized_uv, shading={\"point_size\": .03, \"point_color\": \"black\"})"
   ]
  },
  {
   "cell_type": "markdown",
   "id": "f0ebcdab-0a72-46f1-a012-f8ae6cd358b9",
   "metadata": {},
   "source": [
    "# Triangulate UV plane nicely\n",
    "\n",
    "Constrained edges and minimized distortion"
   ]
  },
  {
   "cell_type": "code",
   "execution_count": 9,
   "id": "060c1f45-a2c0-4610-9ac9-09dcaf2e27f5",
   "metadata": {},
   "outputs": [
    {
     "data": {
      "application/vnd.jupyter.widget-view+json": {
       "model_id": "c3723cb6acc94fce89b7eca8e461cce8",
       "version_major": 2,
       "version_minor": 0
      },
      "text/plain": [
       "Renderer(camera=PerspectiveCamera(children=(DirectionalLight(color='white', intensity=0.6, position=(0.0, 0.0,…"
      ]
     },
     "metadata": {},
     "output_type": "display_data"
    },
    {
     "data": {
      "text/plain": [
       "1"
      ]
     },
     "execution_count": 9,
     "metadata": {},
     "output_type": "execute_result"
    }
   ],
   "source": [
    "def featureGraph(v,f):\n",
    "    feature_edge_list, _ = feature_edges(v,f,20)\n",
    "    bnd = igl.boundary_loop(f)\n",
    "    feature_graph = igl.map_vertices_to_circle(v, bnd)\n",
    "    feature_graph = np.array([circle_to_square(x_circ,y_circ) for [x_circ,y_circ] in feature_graph])\n",
    "    for coord in uv[feature_edge_list]:\n",
    "        feature_graph = np.append(feature_graph, coord, axis=0)\n",
    "    return feature_graph\n",
    "\n",
    "remeshUV=optimized_uv\n",
    "feature_graph = featureGraph(v,f)\n",
    "\n",
    "remeshUV = np.append(remeshUV, feature_graph, axis=0)\n",
    "remeshF = sp.spatial.Delaunay(remeshUV).simplices\n",
    "\n",
    "p=mp.plot(remeshUV, remeshF, shading={\"wireframe\": 1, \"line_width\":0.9})\n",
    "p.add_points(remeshUV, shading={\"point_size\": .06, \"point_color\": \"black\"})"
   ]
  },
  {
   "cell_type": "markdown",
   "id": "01d8e350-434c-4387-8f43-d4ac1e66cd56",
   "metadata": {},
   "source": [
    "# Optional: Increase Samplings for High Curvature"
   ]
  },
  {
   "cell_type": "code",
   "execution_count": 10,
   "id": "70fe97f5-00c2-4411-8c14-e2e1ece846a6",
   "metadata": {},
   "outputs": [
    {
     "data": {
      "application/vnd.jupyter.widget-view+json": {
       "model_id": "156299f3ef32499da086abd097a248dc",
       "version_major": 2,
       "version_minor": 0
      },
      "text/plain": [
       "Renderer(camera=PerspectiveCamera(children=(DirectionalLight(color='white', intensity=0.6, position=(0.0, 0.0,…"
      ]
     },
     "metadata": {},
     "output_type": "display_data"
    },
    {
     "data": {
      "application/vnd.jupyter.widget-view+json": {
       "model_id": "f54c17da5176493fa9f0e895dcd56a1a",
       "version_major": 2,
       "version_minor": 0
      },
      "text/plain": [
       "interactive(children=(Dropdown(description='mode', options=('Gaussian', 'Max', 'Min', 'Total'), value='Gaussia…"
      ]
     },
     "metadata": {},
     "output_type": "display_data"
    }
   ],
   "source": [
    "def curveMaps(v,f):\n",
    "    gaussCurv = igl.gaussian_curvature(v,f)\n",
    "    _, _, maxCurv, minCurv = igl.principal_curvature(v, f)\n",
    "    totalCurv = maxCurv * maxCurv + minCurv * minCurv\n",
    "\n",
    "    gaussCurv = normalizeZeroToOne(gaussCurv * gaussCurv)\n",
    "    maxCurv = normalizeZeroToOne(maxCurv)\n",
    "    minCurv = normalizeZeroToOne(minCurv)\n",
    "    totalCurv = normalizeZeroToOne(totalCurv)\n",
    "\n",
    "    return gaussCurv, maxCurv, minCurv, totalCurv\n",
    "\n",
    "\n",
    "v, f = igl.read_triangle_mesh(\"data/camel_head.off\")\n",
    "uv = parametrize(v,f)\n",
    "feature_edge_list, _ = feature_edges(v,f,10)\n",
    "gaussCurv, maxCurv, minCurv, totalCurv = curveMaps(v,f)\n",
    "\n",
    "a = mp.plot(uv, f, c=gaussCurv, shading={\"wireframe\": 0, \"line_width\":0.2})\n",
    "a.add_lines(uv[feature_edge_list][:,0], uv[feature_edge_list][:,1], shading={\"line_color\": \"black\"})\n",
    "a.add_points(uv, shading={\"point_size\": .03, \"point_color\": \"black\"})\n",
    "@iw.interact(mode=['Gaussian','Max','Min','Total'])\n",
    "def switch(mode):\n",
    "    if mode == \"Gaussian\":\n",
    "        mp.plot(uv, f, c=gaussCurv, shading={\"wireframe\": 0, \"line_width\":0.2}, plot=a)\n",
    "        a.add_lines(uv[feature_edge_list][:,0], uv[feature_edge_list][:,1], shading={\"line_color\": \"black\"})\n",
    "        a.add_points(uv, shading={\"point_size\": .03, \"point_color\": \"black\"})\n",
    "        \n",
    "    if mode == \"Max\":\n",
    "        mp.plot(uv, f, c=maxCurv, shading={\"wireframe\": 0, \"line_width\":0.2}, plot=a)\n",
    "        a.add_lines(uv[feature_edge_list][:,0], uv[feature_edge_list][:,1], shading={\"line_color\": \"black\"})\n",
    "        a.add_points(uv, shading={\"point_size\": .03, \"point_color\": \"black\"})\n",
    "        \n",
    "    if mode == \"Min\":\n",
    "        mp.plot(uv, f, c=minCurv, shading={\"wireframe\": 0, \"line_width\":0.2}, plot=a)\n",
    "        a.add_lines(uv[feature_edge_list][:,0], uv[feature_edge_list][:,1], shading={\"line_color\": \"black\"})\n",
    "        a.add_points(uv, shading={\"point_size\": .03, \"point_color\": \"black\"})\n",
    "        \n",
    "    if mode == \"Total\":\n",
    "        mp.plot(uv, f, c=totalCurv, shading={\"wireframe\": 0, \"line_width\":0.2}, plot=a)\n",
    "        a.add_lines(uv[feature_edge_list][:,0], uv[feature_edge_list][:,1], shading={\"line_color\": \"black\"})\n",
    "        a.add_points(uv, shading={\"point_size\": .03, \"point_color\": \"black\"})"
   ]
  },
  {
   "cell_type": "code",
   "execution_count": 14,
   "id": "7fc6c3cf-e987-4ce1-92ce-8ff128080384",
   "metadata": {},
   "outputs": [
    {
     "name": "stdout",
     "output_type": "stream",
     "text": [
      "Invalid color array given! Supported are numpy arrays. <class 'str'>\n"
     ]
    },
    {
     "data": {
      "application/vnd.jupyter.widget-view+json": {
       "model_id": "f3d746a1ec6a455fbabd8663047a9438",
       "version_major": 2,
       "version_minor": 0
      },
      "text/plain": [
       "Renderer(camera=PerspectiveCamera(children=(DirectionalLight(color='white', intensity=0.6, position=(1.9967555…"
      ]
     },
     "metadata": {},
     "output_type": "display_data"
    },
    {
     "data": {
      "text/plain": [
       "<meshplot.Viewer.Viewer at 0x21a11953590>"
      ]
     },
     "execution_count": 14,
     "metadata": {},
     "output_type": "execute_result"
    }
   ],
   "source": [
    "def subdivide_high_curvature_regions(v, f, curvature, threshold=0.5, iterations=1):\n",
    "    \n",
    "    # Identify vertices with high curvature\n",
    "    high_curvature_vertices = np.where(curvature > threshold)[0]\n",
    "    mask = np.zeros(len(v), dtype=bool)\n",
    "    mask[high_curvature_vertices] = True\n",
    "\n",
    "    # Subdivide the mesh, focusing on high curvature areas\n",
    "    for _ in range(iterations):\n",
    "        v_new, f_new = v.copy(), f.copy()\n",
    "        for fi in range(len(f)):\n",
    "            if mask[f[fi, 0]] or mask[f[fi, 1]] or mask[f[fi, 2]]:\n",
    "                # Apply a simple subdivision rule (splitting faces)\n",
    "                v_mid = np.mean(v[f[fi]], axis=0)\n",
    "                v_new = np.append(v_new, [v_mid], axis=0)\n",
    "                mid_idx = len(v_new) - 1\n",
    "                # Create new faces\n",
    "                f_new = np.append(f_new, [[f[fi, 0], f[fi, 1], mid_idx]], axis=0)\n",
    "                f_new = np.append(f_new, [[f[fi, 1], f[fi, 2], mid_idx]], axis=0)\n",
    "                f_new = np.append(f_new, [[f[fi, 2], f[fi, 0], mid_idx]], axis=0)\n",
    "                # Remove the original face\n",
    "                f_new = np.delete(f_new, fi, axis=0)\n",
    "\n",
    "        v, f = v_new, f_new\n",
    "\n",
    "    return v, f\n",
    "\n",
    "v, f = igl.read_triangle_mesh(\"data/camel_head.off\")\n",
    "uv = parametrize(v, f)\n",
    "feature_edge_list, _ = feature_edges(v, f, 10)\n",
    "gaussCurv, maxCurv, minCurv, totalCurv = curveMaps(v, f)\n",
    "\n",
    "# Example: Subdividing based on Gaussian curvature\n",
    "v_subdivided, f_subdivided = subdivide_high_curvature_regions(v, f, gaussCurv, threshold=0.5, iterations=1)\n",
    "\n",
    "mp.plot(v_subdivided, f_subdivided, c='blue', shading={\"wireframe\": True})"
   ]
  },
  {
   "cell_type": "code",
   "execution_count": null,
   "id": "e1d749bb-b87a-44a2-b67a-33800afda732",
   "metadata": {},
   "outputs": [],
   "source": []
  }
 ],
 "metadata": {
  "kernelspec": {
   "display_name": "Python (myenv)",
   "language": "python",
   "name": "myenv"
  },
  "language_info": {
   "codemirror_mode": {
    "name": "ipython",
    "version": 3
   },
   "file_extension": ".py",
   "mimetype": "text/x-python",
   "name": "python",
   "nbconvert_exporter": "python",
   "pygments_lexer": "ipython3",
   "version": "3.12.0"
  }
 },
 "nbformat": 4,
 "nbformat_minor": 5
}
