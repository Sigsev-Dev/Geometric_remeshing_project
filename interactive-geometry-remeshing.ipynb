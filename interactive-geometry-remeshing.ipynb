{
 "cells": [
  {
   "cell_type": "markdown",
   "metadata": {},
   "source": [
    "# Interactive Geometry Remeshing\n",
    "\n",
    "A Python implementation of Pierre Alliez, Mark Meyer, and Mathieu Desbrun's research paper \"Interactive Geometry Remeshing.\"\n",
    "\n",
    "Link to google drive with demo video: https://drive.google.com/drive/folders/1yvPP3hPceYbScddZL6QRBsEnUGWdBCpy?usp=drive_link\n"
   ]
  },
  {
   "cell_type": "markdown",
   "metadata": {},
   "source": [
    "## Dependencies\n",
    "\n",
    "All geometry processing is done with NumPy and igl, I did have to use VisPy and Pillow (PIL)or handling some image processing, although neither are used for any built-in mesh/geometry algorithms. In order to run VisPy in a Jupyter notebook you also need \n",
    " \n",
    "```conda install -c conda-forge vispy``` \n",
    "\n",
    "or\n",
    "\n",
    "```pip install --upgrade vispy```\n",
    "\n",
    "and\n",
    "\n",
    " ```c```\n"
   ]
  },
  {
   "cell_type": "code",
   "execution_count": 1,
   "metadata": {},
   "outputs": [
    {
     "name": "stdout",
     "output_type": "stream",
     "text": [
      "Requirement already satisfied: vispy in c:\\python312\\lib\\site-packages (0.14.2)\n",
      "Requirement already satisfied: numpy in c:\\users\\phoenix\\appdata\\roaming\\python\\python312\\site-packages (from vispy) (1.26.4)\n",
      "Requirement already satisfied: freetype-py in c:\\python312\\lib\\site-packages (from vispy) (2.4.0)\n",
      "Requirement already satisfied: hsluv in c:\\python312\\lib\\site-packages (from vispy) (5.0.4)\n",
      "Requirement already satisfied: kiwisolver in c:\\users\\phoenix\\appdata\\roaming\\python\\python312\\site-packages (from vispy) (1.4.5)\n",
      "Requirement already satisfied: packaging in c:\\users\\phoenix\\appdata\\roaming\\python\\python312\\site-packages (from vispy) (24.0)\n",
      "Note: you may need to restart the kernel to use updated packages.\n"
     ]
    },
    {
     "name": "stderr",
     "output_type": "stream",
     "text": [
      "DEPRECATION: Loading egg at c:\\python312\\lib\\site-packages\\vboxapi-1.0-py3.12.egg is deprecated. pip 24.3 will enforce this behaviour change. A possible replacement is to use pip for package installation.. Discussion can be found at https://github.com/pypa/pip/issues/12330\n"
     ]
    }
   ],
   "source": [
    "pip install --upgrade vispy"
   ]
  },
  {
   "cell_type": "code",
   "execution_count": 2,
   "metadata": {},
   "outputs": [
    {
     "name": "stdout",
     "output_type": "stream",
     "text": [
      "Requirement already satisfied: Pillow in c:\\users\\phoenix\\appdata\\roaming\\python\\python312\\site-packages (10.3.0)\n",
      "Note: you may need to restart the kernel to use updated packages.\n"
     ]
    },
    {
     "name": "stderr",
     "output_type": "stream",
     "text": [
      "DEPRECATION: Loading egg at c:\\python312\\lib\\site-packages\\vboxapi-1.0-py3.12.egg is deprecated. pip 24.3 will enforce this behaviour change. A possible replacement is to use pip for package installation.. Discussion can be found at https://github.com/pypa/pip/issues/12330\n"
     ]
    }
   ],
   "source": [
    "pip install Pillow"
   ]
  },
  {
   "cell_type": "code",
   "execution_count": 3,
   "metadata": {},
   "outputs": [],
   "source": [
    "import math\n",
    "import random\n",
    "import os\n",
    "\n",
    "import igl\n",
    "import numpy as np\n",
    "import meshplot as mp\n",
    "import scipy as sp\n",
    "import ipywidgets as iw\n",
    "\n",
    "import vispy\n",
    "from vispy import io\n",
    "from vispy import app, gloo\n",
    "from vispy.gloo import Program\n",
    "from PIL import Image"
   ]
  },
  {
   "cell_type": "markdown",
   "metadata": {},
   "source": [
    "## Defining Feature Edges With Dihedral Angle Thresholding\n",
    "\n",
    "Extract mesh \"features\" which we will try to preserve throughout the remeshing.\n"
   ]
  },
  {
   "cell_type": "code",
   "execution_count": 4,
   "metadata": {},
   "outputs": [
    {
     "data": {
      "application/vnd.jupyter.widget-view+json": {
       "model_id": "01aff7ac314e468796e204a410620177",
       "version_major": 2,
       "version_minor": 0
      },
      "text/plain": [
       "Renderer(camera=PerspectiveCamera(children=(DirectionalLight(color='white', intensity=0.6, position=(1.9967555…"
      ]
     },
     "metadata": {},
     "output_type": "display_data"
    },
    {
     "data": {
      "text/plain": [
       "1"
      ]
     },
     "execution_count": 4,
     "metadata": {},
     "output_type": "execute_result"
    }
   ],
   "source": [
    "def feature_edges(v,f,threshold):\n",
    "    edge_faces = []\n",
    "\n",
    "    dihedral_threshold = threshold/180 * np.pi\n",
    "    f_normals = igl.per_face_normals(v,f,np.ndarray([0,0]))\n",
    "    edge_flaps = igl.edge_flaps(f)\n",
    "    edges = edge_flaps[0]\n",
    "    \n",
    "    threshold_edges = []\n",
    "    for i in range(edges.shape[0]):\n",
    "        # find normals of faces connecting edge\n",
    "        edge_face_norms = f_normals[edge_flaps[2][i]]\n",
    "\n",
    "        # find dihedral angle between edge faces\n",
    "        f1n = edge_face_norms[0] / np.linalg.norm(edge_face_norms[0])\n",
    "        f2n = edge_face_norms[1] / np.linalg.norm(edge_face_norms[1])\n",
    "        dihedral_angle = np.arccos(np.clip(np.dot(f1n, f2n), -1.0, 1.0))\n",
    "\n",
    "        # add angles greater than threshold to list\n",
    "        if dihedral_angle > dihedral_threshold or (-1 in edge_flaps[2][i]):\n",
    "            threshold_edges.append(edges[i])\n",
    "            \n",
    "            # add edge faces to list\n",
    "            if edge_flaps[2][i][0] != -1:\n",
    "                edge_faces.append(edge_flaps[2][i][0])\n",
    "            if edge_flaps[2][i][1] != -1:\n",
    "                edge_faces.append(edge_flaps[2][i][1])\n",
    "\n",
    "    threshold_edges = np.array(threshold_edges)\n",
    "    return threshold_edges, edge_faces\n",
    "\n",
    "\n",
    "\n",
    "v, f = igl.read_triangle_mesh(\"data/camel_head.off\")\n",
    "feature_edge_list, edge_faces = feature_edges(v,f,20)\n",
    "\n",
    "col = np.ones_like(f)\n",
    "col[edge_faces, 1:] = 0\n",
    "\n",
    "p = mp.plot(v, f, c=col, shading={\"wireframe\": 0})\n",
    "p.add_lines(v[feature_edge_list][:,0], v[feature_edge_list][:,1], shading={\"line_color\": \"yellow\"})"
   ]
  },
  {
   "cell_type": "markdown",
   "metadata": {},
   "source": [
    "## Parametrization onto Square Map"
   ]
  },
  {
   "cell_type": "code",
   "execution_count": 5,
   "metadata": {},
   "outputs": [
    {
     "data": {
      "application/vnd.jupyter.widget-view+json": {
       "model_id": "8efebedab1ca4a9fb69e744dcf89742a",
       "version_major": 2,
       "version_minor": 0
      },
      "text/plain": [
       "Renderer(camera=PerspectiveCamera(children=(DirectionalLight(color='white', intensity=0.6, position=(1.9967555…"
      ]
     },
     "metadata": {},
     "output_type": "display_data"
    },
    {
     "data": {
      "application/vnd.jupyter.widget-view+json": {
       "model_id": "0bed96c6b7114c0ca6fc615a41829701",
       "version_major": 2,
       "version_minor": 0
      },
      "text/plain": [
       "interactive(children=(Dropdown(description='mode', options=('2D', '3D'), value='2D'), Output()), _dom_classes=…"
      ]
     },
     "metadata": {},
     "output_type": "display_data"
    }
   ],
   "source": [
    "def circle_to_square(x_circ,y_circ):\n",
    "    x = 0.5 * np.sqrt( 2 + x_circ**2 - y_circ**2 + 2*x_circ*np.sqrt(2) ) - 0.5 * np.sqrt( 2 + x_circ**2 - y_circ**2 - 2*x_circ*np.sqrt(2) )\n",
    "    y = 0.5 * np.sqrt( 2 - x_circ**2 + y_circ**2 + 2*y_circ*np.sqrt(2) ) - 0.5 * np.sqrt( 2 - x_circ**2 + y_circ**2 - 2*y_circ*np.sqrt(2) )\n",
    "    x = round(max(min(1,x),-1),5)\n",
    "    y = round(max(min(1,y),-1),5)\n",
    "    return [x,y]\n",
    "\n",
    "def parametrize(v,f):\n",
    "    ## Find the open boundary\n",
    "    bnd = igl.boundary_loop(f)\n",
    "    \n",
    "    ## Map the boundary to a circle, preserving edge proportions\n",
    "    bnd_uv = igl.map_vertices_to_circle(v, bnd)\n",
    "    \n",
    "    # remap circle boundary onto square\n",
    "    bnd_uv = np.array([circle_to_square(x_circ,y_circ) for [x_circ,y_circ] in bnd_uv])\n",
    "\n",
    "    # force points into corners\n",
    "    TL = np.array([-1,1])\n",
    "    TR = np.array([1,1])\n",
    "    BL = np.array([-1,-1])\n",
    "    BR = np.array([1,-1])\n",
    "    bndTL = 0\n",
    "    bndTR = 0\n",
    "    bndBL = 0\n",
    "    bndBR = 0\n",
    "    for coordi, coord in enumerate(bnd_uv):\n",
    "        if np.linalg.norm(coord-TL) < np.linalg.norm(bnd_uv[bndTL]-TL):\n",
    "            bndTL = coordi\n",
    "        if np.linalg.norm(coord-TR) < np.linalg.norm(bnd_uv[bndTR]-TR):\n",
    "            bndTR = coordi\n",
    "        if np.linalg.norm(coord-BL) < np.linalg.norm(bnd_uv[bndBL]-BL):\n",
    "            bndBL = coordi\n",
    "        if np.linalg.norm(coord-BR) < np.linalg.norm(bnd_uv[bndBR]-BR):\n",
    "            bndBR = coordi\n",
    "\n",
    "    bnd_uv[bndTL] = TL\n",
    "    bnd_uv[bndTR] = TR\n",
    "    bnd_uv[bndBL] = BL\n",
    "    bnd_uv[bndBR] = BR\n",
    "    \n",
    "    ## Harmonic parametrization for the internal vertices\n",
    "    return igl.harmonic(v, f, bnd, bnd_uv, 1)\n",
    "\n",
    "v, f = igl.read_triangle_mesh(\"data/camel_head.off\")\n",
    "uv = parametrize(v,f)\n",
    "feature_edge_list, _ = feature_edges(v,f,20)\n",
    "\n",
    "\n",
    "p = mp.plot(v, f, c=np.ones_like(f), shading={\"wireframe\": False})\n",
    "p.add_lines(v[feature_edge_list][:,0], v[feature_edge_list][:,1], shading={\"line_color\": \"yellow\"})\n",
    "@iw.interact(mode=['2D','3D'])\n",
    "def switch(mode):\n",
    "    if mode == \"3D\":\n",
    "        mp.plot(v, f, c=uv[:,0],shading={\"wireframe\": 0}, plot=p)\n",
    "        p.add_lines(v[feature_edge_list][:,0], v[feature_edge_list][:,1], shading={\"line_color\": \"yellow\"})\n",
    "        \n",
    "    if mode == \"2D\":\n",
    "        mp.plot(uv, f, c=uv[:,0], shading={\"wireframe\": 1, \"line_width\":0.2}, plot=p)\n",
    "        p.add_lines(uv[feature_edge_list][:,0], uv[feature_edge_list][:,1], shading={\"line_color\": \"yellow\"})\n",
    "        p.add_points(uv, shading={\"point_size\": .04})"
   ]
  },
  {
   "cell_type": "markdown",
   "metadata": {},
   "source": [
    "## Geometry Maps\n",
    "\n",
    "- Using the chosen paramterization, generate an atlas of geometry maps containing useful data pertaining to the input mesh.\n",
    "- The area distortion and curvature maps will be used to generate a control map which determines the densities of resamplings on the parameterization. (Allows user to control how vertices are distributed across remesh).\n",
    "- The embedding and face index maps can be used to convert the 2D remesh back into 3D. (allows for quick lookups of xyz coordinates based on uv coordinates)\n",
    "- Additional maps (normal, colour, texture) can be generated if we wish for our remesh to contain any such attributes."
   ]
  },
  {
   "cell_type": "markdown",
   "metadata": {},
   "source": [
    "### 1. Area Distortion Map"
   ]
  },
  {
   "cell_type": "code",
   "execution_count": 6,
   "metadata": {},
   "outputs": [
    {
     "data": {
      "application/vnd.jupyter.widget-view+json": {
       "model_id": "9378a62c449d42a4863c691de4ee66b8",
       "version_major": 2,
       "version_minor": 0
      },
      "text/plain": [
       "Renderer(camera=PerspectiveCamera(children=(DirectionalLight(color='white', intensity=0.6, position=(0.0, 0.0,…"
      ]
     },
     "metadata": {},
     "output_type": "display_data"
    },
    {
     "data": {
      "text/plain": [
       "2"
      ]
     },
     "execution_count": 6,
     "metadata": {},
     "output_type": "execute_result"
    }
   ],
   "source": [
    "def normalizeZeroToOne(arr):\n",
    "    if(min(arr) < 0):\n",
    "        arr -= min(arr)\n",
    "    return (1/max(arr)) * arr\n",
    "    \n",
    "def areaDistortion(v,uv,f):\n",
    "    a3d = igl.doublearea(v,f)\n",
    "    a2d = igl.doublearea(uv,f)\n",
    "\n",
    "    VF, NI = igl.vertex_triangle_adjacency(f,v.shape[0])\n",
    "    face_area_distortion = a3d/a2d\n",
    "\n",
    "    vert_area_distortion = np.zeros_like(v[:,0])\n",
    "    for i in range(v.shape[0]):\n",
    "        face0 = NI[i]\n",
    "        facen = NI[i+1]\n",
    "        faces = VF[face0:facen]\n",
    "        faceAreas = a3d[faces]\n",
    "        faceAreas = (1/np.sum(faceAreas)) * faceAreas\n",
    "        #print(i, faces,faceAreas)\n",
    "\n",
    "        vertAD = 0\n",
    "        for facei, face in enumerate(faces):\n",
    "            vertAD += face_area_distortion[face] * faceAreas[facei]\n",
    "        vert_area_distortion[i] = vertAD\n",
    "\n",
    "    return normalizeZeroToOne(vert_area_distortion)\n",
    "\n",
    "\n",
    "v, f = igl.read_triangle_mesh(\"data/camel_head.off\")\n",
    "uv = parametrize(v,f)\n",
    "feature_edge_list, _ = feature_edges(v,f,10)\n",
    "area_distortion = areaDistortion(v,uv,f)\n",
    "\n",
    "a = mp.plot(uv, f, c=area_distortion, shading={\"wireframe\": 0, \"line_width\":0.2})\n",
    "a.add_lines(uv[feature_edge_list][:,0], uv[feature_edge_list][:,1], shading={\"line_color\": \"black\"})\n",
    "a.add_points(uv, shading={\"point_size\": .03, \"point_color\": \"black\"})"
   ]
  },
  {
   "cell_type": "markdown",
   "metadata": {},
   "source": [
    "### 2. Curvature Maps"
   ]
  },
  {
   "cell_type": "code",
   "execution_count": 7,
   "metadata": {},
   "outputs": [
    {
     "data": {
      "application/vnd.jupyter.widget-view+json": {
       "model_id": "05d6dc9db1b24eab97d0882971a22fac",
       "version_major": 2,
       "version_minor": 0
      },
      "text/plain": [
       "Renderer(camera=PerspectiveCamera(children=(DirectionalLight(color='white', intensity=0.6, position=(0.0, 0.0,…"
      ]
     },
     "metadata": {},
     "output_type": "display_data"
    },
    {
     "data": {
      "application/vnd.jupyter.widget-view+json": {
       "model_id": "0a367144ab854628b138b2f4749ea38c",
       "version_major": 2,
       "version_minor": 0
      },
      "text/plain": [
       "interactive(children=(Dropdown(description='mode', options=('Gaussian', 'Max', 'Min', 'Total'), value='Gaussia…"
      ]
     },
     "metadata": {},
     "output_type": "display_data"
    }
   ],
   "source": [
    "def curveMaps(v,f):\n",
    "    gaussCurv = igl.gaussian_curvature(v,f)\n",
    "    _, _, maxCurv, minCurv = igl.principal_curvature(v, f)\n",
    "    totalCurv = maxCurv * maxCurv + minCurv * minCurv\n",
    "\n",
    "    gaussCurv = normalizeZeroToOne(gaussCurv * gaussCurv)\n",
    "    maxCurv = normalizeZeroToOne(maxCurv)\n",
    "    minCurv = normalizeZeroToOne(minCurv)\n",
    "    totalCurv = normalizeZeroToOne(totalCurv)\n",
    "\n",
    "    return gaussCurv, maxCurv, minCurv, totalCurv\n",
    "\n",
    "\n",
    "v, f = igl.read_triangle_mesh(\"data/camel_head.off\")\n",
    "uv = parametrize(v,f)\n",
    "feature_edge_list, _ = feature_edges(v,f,10)\n",
    "gaussCurv, maxCurv, minCurv, totalCurv = curveMaps(v,f)\n",
    "\n",
    "a = mp.plot(uv, f, c=gaussCurv, shading={\"wireframe\": 0, \"line_width\":0.2})\n",
    "a.add_lines(uv[feature_edge_list][:,0], uv[feature_edge_list][:,1], shading={\"line_color\": \"black\"})\n",
    "a.add_points(uv, shading={\"point_size\": .03, \"point_color\": \"black\"})\n",
    "@iw.interact(mode=['Gaussian','Max','Min','Total'])\n",
    "def switch(mode):\n",
    "    if mode == \"Gaussian\":\n",
    "        mp.plot(uv, f, c=gaussCurv, shading={\"wireframe\": 0, \"line_width\":0.2}, plot=a)\n",
    "        a.add_lines(uv[feature_edge_list][:,0], uv[feature_edge_list][:,1], shading={\"line_color\": \"black\"})\n",
    "        a.add_points(uv, shading={\"point_size\": .03, \"point_color\": \"black\"})\n",
    "        \n",
    "    if mode == \"Max\":\n",
    "        mp.plot(uv, f, c=maxCurv, shading={\"wireframe\": 0, \"line_width\":0.2}, plot=a)\n",
    "        a.add_lines(uv[feature_edge_list][:,0], uv[feature_edge_list][:,1], shading={\"line_color\": \"black\"})\n",
    "        a.add_points(uv, shading={\"point_size\": .03, \"point_color\": \"black\"})\n",
    "        \n",
    "    if mode == \"Min\":\n",
    "        mp.plot(uv, f, c=minCurv, shading={\"wireframe\": 0, \"line_width\":0.2}, plot=a)\n",
    "        a.add_lines(uv[feature_edge_list][:,0], uv[feature_edge_list][:,1], shading={\"line_color\": \"black\"})\n",
    "        a.add_points(uv, shading={\"point_size\": .03, \"point_color\": \"black\"})\n",
    "        \n",
    "    if mode == \"Total\":\n",
    "        mp.plot(uv, f, c=totalCurv, shading={\"wireframe\": 0, \"line_width\":0.2}, plot=a)\n",
    "        a.add_lines(uv[feature_edge_list][:,0], uv[feature_edge_list][:,1], shading={\"line_color\": \"black\"})\n",
    "        a.add_points(uv, shading={\"point_size\": .03, \"point_color\": \"black\"})"
   ]
  },
  {
   "cell_type": "markdown",
   "metadata": {},
   "source": [
    "### 3. Embedding Map"
   ]
  },
  {
   "cell_type": "code",
   "execution_count": 8,
   "metadata": {},
   "outputs": [
    {
     "data": {
      "application/vnd.jupyter.widget-view+json": {
       "model_id": "f1fb53012a4941688629ada682dd61b7",
       "version_major": 2,
       "version_minor": 0
      },
      "text/plain": [
       "Renderer(camera=PerspectiveCamera(children=(DirectionalLight(color='white', intensity=0.6, position=(0.0, 0.0,…"
      ]
     },
     "metadata": {},
     "output_type": "display_data"
    },
    {
     "data": {
      "application/vnd.jupyter.widget-view+json": {
       "model_id": "599096c0967e486892ff6406c3a9a943",
       "version_major": 2,
       "version_minor": 0
      },
      "text/plain": [
       "interactive(children=(Dropdown(description='mode', options=('Vertex Position', 'xMap', 'yMap', 'zMap'), value=…"
      ]
     },
     "metadata": {},
     "output_type": "display_data"
    }
   ],
   "source": [
    "def scalarToRGB(scalarMap):\n",
    "    rgbMap = []\n",
    "    for i in range(scalarMap.shape[0]):\n",
    "        r = min(1/3,scalarMap[i])\n",
    " \n",
    "        g = min(max(0,(scalarMap[i]-1/3)),1/3)\n",
    " \n",
    "        b = min(max(0,(scalarMap[i]-2/3)),1/3)\n",
    "            \n",
    "        rgbMap.append([r,g,b])\n",
    "    return np.array(rgbMap)\n",
    "\n",
    "def embeddingMaps(v):\n",
    "    xMap = v[:,0].copy()\n",
    "    yMap = v[:,1].copy()\n",
    "    zMap = v[:,2].copy()\n",
    "    xMap = normalizeZeroToOne(xMap)\n",
    "    yMap = normalizeZeroToOne(yMap)\n",
    "    zMap = normalizeZeroToOne(zMap)\n",
    "    \n",
    "    return scalarToRGB(xMap), scalarToRGB(yMap), scalarToRGB(zMap)\n",
    "\n",
    "\n",
    "v, f = igl.read_triangle_mesh(\"data/camel_head.off\")\n",
    "uv = parametrize(v,f)\n",
    "feature_edge_list, _ = feature_edges(v,f,10)\n",
    "xMap, yMap, zMap = embeddingMaps(v)\n",
    "\n",
    "a = mp.plot(uv, f, c=v, shading={\"wireframe\": 0, \"line_width\":0.2})\n",
    "a.add_lines(uv[feature_edge_list][:,0], uv[feature_edge_list][:,1], shading={\"line_color\": \"black\"})\n",
    "a.add_points(uv, shading={\"point_size\": .03, \"point_color\": \"black\"})\n",
    "@iw.interact(mode=['Vertex Position','xMap','yMap','zMap'])\n",
    "def switch(mode):\n",
    "    if mode == \"Vertex Position\":\n",
    "        mp.plot(uv, f, c=v, shading={\"wireframe\": 0, \"line_width\":0.2}, plot=a)\n",
    "        a.add_lines(uv[feature_edge_list][:,0], uv[feature_edge_list][:,1], shading={\"line_color\": \"black\"})\n",
    "        a.add_points(uv, shading={\"point_size\": .03, \"point_color\": \"black\"})\n",
    "        \n",
    "    if mode == \"xMap\":\n",
    "        mp.plot(uv, f, c=xMap, shading={\"wireframe\": 0, \"line_width\":0.2}, plot=a)\n",
    "        a.add_lines(uv[feature_edge_list][:,0], uv[feature_edge_list][:,1], shading={\"line_color\": \"black\"})\n",
    "        a.add_points(uv, shading={\"point_size\": .03, \"point_color\": \"black\"})\n",
    "        \n",
    "    if mode == \"yMap\":\n",
    "        mp.plot(uv, f, c=yMap, shading={\"wireframe\": 0, \"line_width\":0.2}, plot=a)\n",
    "        a.add_lines(uv[feature_edge_list][:,0], uv[feature_edge_list][:,1], shading={\"line_color\": \"black\"})\n",
    "        a.add_points(uv, shading={\"point_size\": .03, \"point_color\": \"black\"})\n",
    "        \n",
    "    if mode == \"zMap\":\n",
    "        mp.plot(uv, f, c=zMap, shading={\"wireframe\": 0, \"line_width\":0.2}, plot=a)\n",
    "        a.add_lines(uv[feature_edge_list][:,0], uv[feature_edge_list][:,1], shading={\"line_color\": \"black\"})\n",
    "        a.add_points(uv, shading={\"point_size\": .03, \"point_color\": \"black\"})\n"
   ]
  },
  {
   "cell_type": "markdown",
   "metadata": {},
   "source": [
    "### 4. Face Index Map"
   ]
  },
  {
   "cell_type": "code",
   "execution_count": 9,
   "metadata": {},
   "outputs": [
    {
     "data": {
      "application/vnd.jupyter.widget-view+json": {
       "model_id": "c583adcd3c3440a381723679eda9ba66",
       "version_major": 2,
       "version_minor": 0
      },
      "text/plain": [
       "Renderer(camera=PerspectiveCamera(children=(DirectionalLight(color='white', intensity=0.6, position=(0.0, 0.0,…"
      ]
     },
     "metadata": {},
     "output_type": "display_data"
    },
    {
     "data": {
      "text/plain": [
       "2"
      ]
     },
     "execution_count": 9,
     "metadata": {},
     "output_type": "execute_result"
    }
   ],
   "source": [
    "def indexMap(v,f):\n",
    "    face_index_list = []\n",
    "    face_index_map = {}\n",
    "    \n",
    "    for i in range(f.shape[0]):\n",
    "        face_col = [int(random.uniform(0,255)),int(random.uniform(0,255)),int(random.uniform(0,255))]\n",
    "        face_index_list.append(face_col)\n",
    "        while str(face_index_list[i]) in face_index_map:\n",
    "            face_index_list[i] = [int(random.uniform(0,255)),int(random.uniform(0,255)),int(random.uniform(0,255))]\n",
    "        face_index_map[str(face_index_list[i])] = i\n",
    "        \n",
    "    face_index_list = np.array(face_index_list)\n",
    "    return face_index_list, face_index_map\n",
    "\n",
    "\n",
    "random.seed(1)\n",
    "v, f = igl.read_triangle_mesh(\"data/camel_head.off\")\n",
    "uv = parametrize(v,f)\n",
    "feature_edge_list, _ = feature_edges(v,f,10)\n",
    "face_index_list, face_index_map = indexMap(v,f)\n",
    "\n",
    "face_index_list = (1/255) * face_index_list\n",
    "\n",
    "a = mp.plot(uv, f, c=face_index_list, shading={\"wireframe\": 0, \"line_width\":0.2})\n",
    "a.add_lines(uv[feature_edge_list][:,0], uv[feature_edge_list][:,1], shading={\"line_color\": \"black\"})\n",
    "a.add_points(uv, shading={\"point_size\": .03, \"point_color\": \"black\"})"
   ]
  },
  {
   "cell_type": "markdown",
   "metadata": {},
   "source": [
    "### 5. (optional) Additional Maps\n",
    "\n",
    "ex: normal, texture, color\n",
    "\n",
    "Useful if the remeshed model needs these attributes added after remeshing, not needed for remeshing process itself."
   ]
  },
  {
   "cell_type": "code",
   "execution_count": 10,
   "metadata": {},
   "outputs": [
    {
     "data": {
      "application/vnd.jupyter.widget-view+json": {
       "model_id": "de8c3fc96e1c46a09b012acb92e8f12e",
       "version_major": 2,
       "version_minor": 0
      },
      "text/plain": [
       "Renderer(camera=PerspectiveCamera(children=(DirectionalLight(color='white', intensity=0.6, position=(0.0, 0.0,…"
      ]
     },
     "metadata": {},
     "output_type": "display_data"
    },
    {
     "data": {
      "text/plain": [
       "2"
      ]
     },
     "execution_count": 10,
     "metadata": {},
     "output_type": "execute_result"
    }
   ],
   "source": [
    "v, f = igl.read_triangle_mesh(\"data/camel_head.off\")\n",
    "uv = parametrize(v,f)\n",
    "feature_edge_list, _ = feature_edges(v,f,10)\n",
    "\n",
    "v_p = np.hstack([uv, np.zeros((uv.shape[0],1))])\n",
    "pvn = igl.per_vertex_normals(v,f)\n",
    "\n",
    "a = mp.plot(uv, f, c=pvn, shading={\"wireframe\": 0, \"line_width\":0.2})\n",
    "a.add_lines(uv[feature_edge_list][:,0], uv[feature_edge_list][:,1], shading={\"line_color\": \"black\"})\n",
    "a.add_points(uv, shading={\"point_size\": .03, \"point_color\": \"black\"})"
   ]
  },
  {
   "cell_type": "markdown",
   "metadata": {},
   "source": [
    "## Combining Maps to Create Control Map (User-Controlled)"
   ]
  },
  {
   "cell_type": "code",
   "execution_count": 11,
   "metadata": {},
   "outputs": [
    {
     "data": {
      "application/vnd.jupyter.widget-view+json": {
       "model_id": "a636e0d20f4548659aaad1abb6baeaa6",
       "version_major": 2,
       "version_minor": 0
      },
      "text/plain": [
       "Renderer(camera=PerspectiveCamera(children=(DirectionalLight(color='white', intensity=0.6, position=(0.0, 0.0,…"
      ]
     },
     "metadata": {},
     "output_type": "display_data"
    },
    {
     "data": {
      "application/vnd.jupyter.widget-view+json": {
       "model_id": "2b27d9cc03484ee7aef43bde8930544e",
       "version_major": 2,
       "version_minor": 0
      },
      "text/plain": [
       "interactive(children=(FloatSlider(value=0.5, description='areaDistortionFactor', max=1.0), FloatSlider(value=0…"
      ]
     },
     "metadata": {},
     "output_type": "display_data"
    }
   ],
   "source": [
    "def designControlMap(v,f):\n",
    "    uv = parametrize(v,f)\n",
    "    feature_edge_list, _ = feature_edges(v,f,10)\n",
    "    \n",
    "    area_distortion = areaDistortion(v,uv,f)\n",
    "    gaussCurv, maxCurv, minCurv, totalCurv = curveMaps(v,f)\n",
    "\n",
    "    areaDistortionFactor = 0.5\n",
    "    gaussCurvFactor = 0.5\n",
    "    maxCurvFactor = 0.5\n",
    "    minCurvFactor = 0.5\n",
    "    totalCurvFactor = 0.5\n",
    "    \n",
    "    controlMap =  areaDistortionFactor * area_distortion + gaussCurvFactor * gaussCurv + maxCurvFactor * maxCurv + minCurvFactor * minCurv + totalCurvFactor * totalCurv\n",
    "    controlMap = normalizeZeroToOne(controlMap)\n",
    "\n",
    "    a = mp.plot(uv, f, c=controlMap, shading={\"wireframe\": 0, \"line_width\":0.2})\n",
    "    @mp.interact(areaDistortionFactor = (0.0,1.0),gaussCurvFactor = (0.0,1.0),maxCurvFactor = (0.0,1.0),minCurvFactor = (0.0,1.0),totalCurvFactor = (0.0,1.0))\n",
    "    def ff(areaDistortionFactor, gaussCurvFactor,maxCurvFactor,minCurvFactor,totalCurvFactor):\n",
    "        controlMap =  areaDistortionFactor * area_distortion + gaussCurvFactor * gaussCurv + maxCurvFactor * maxCurv + minCurvFactor * minCurv + totalCurvFactor * totalCurv\n",
    "        controlMap = normalizeZeroToOne(controlMap)\n",
    "        mp.plot(uv, f, c=controlMap, shading={\"wireframe\": 0, \"line_width\":0.2}, plot=a)\n",
    "        print(\"Control Map Parameters:\")\n",
    "        print(areaDistortionFactor,\",\",gaussCurvFactor,\",\",maxCurvFactor,\",\",minCurvFactor,\",\",totalCurvFactor)\n",
    "\n",
    "v, f = igl.read_triangle_mesh(\"data/camel_head.off\")\n",
    "\n",
    "feature_edge_list, _ = feature_edges(v,f,10)\n",
    "xMap, yMap, zMap = embeddingMaps(v)\n",
    "uv = parametrize(v,f)\n",
    "designControlMap(v,f)"
   ]
  },
  {
   "cell_type": "markdown",
   "metadata": {},
   "source": [
    "## Save Control Map Based on User Preferences\n",
    "\n",
    "Instructions:\n",
    "\n",
    "1. Adjust control map parameters above to your preference. (For most meshes I would recommend only using the area distortion and total curvature)\n",
    "2. Copy the parameters output at the bottom and paste them into the function call for ```createControlMap(v,f, <Control Map Parameters> )```"
   ]
  },
  {
   "cell_type": "code",
   "execution_count": 12,
   "metadata": {},
   "outputs": [
    {
     "data": {
      "application/vnd.jupyter.widget-view+json": {
       "model_id": "95845a5871324023bca81d0ffbfd9155",
       "version_major": 2,
       "version_minor": 0
      },
      "text/plain": [
       "Renderer(camera=PerspectiveCamera(children=(DirectionalLight(color='white', intensity=0.6, position=(0.0, 0.0,…"
      ]
     },
     "metadata": {},
     "output_type": "display_data"
    },
    {
     "data": {
      "text/plain": [
       "<meshplot.Viewer.Viewer at 0x22c29cfdeb0>"
      ]
     },
     "execution_count": 12,
     "metadata": {},
     "output_type": "execute_result"
    }
   ],
   "source": [
    "def createControlMap(v,f,\n",
    "                     areaDistortionFactor,gaussCurvFactor,maxCurvFactor,minCurvFactor,totalCurvFactor\n",
    "                    ):\n",
    "    uv = parametrize(v,f)    \n",
    "    area_distortion = areaDistortion(v,uv,f)\n",
    "    gaussCurv, maxCurv, minCurv, totalCurv = curveMaps(v,f)\n",
    "    controlMap =  areaDistortionFactor * area_distortion + gaussCurvFactor * gaussCurv + maxCurvFactor * maxCurv + minCurvFactor * minCurv + totalCurvFactor * totalCurv\n",
    "    return normalizeZeroToOne(controlMap)\n",
    "\n",
    "controlMap = createControlMap(v,f,\n",
    "0.7 , 0.0 , 0.0 , 0.0 , 0.5\n",
    "                             )\n",
    "mp.plot(uv, f, c=controlMap, shading={\"wireframe\": 0, \"line_width\":0.2, \"colormap\": \"Greys\"})"
   ]
  },
  {
   "cell_type": "markdown",
   "metadata": {},
   "source": [
    "## Generating Images of Maps with OpenGL\n",
    "\n",
    "- For converting the igl generated scalar maps (which are just NumPy arrays containing vertex/face attributes) into images, I pack the maps into vertex buffers and pass them through an OpenGL shader.\n",
    "- I found that there was some sort of conflict when running Meshplot and PyOpenGL in the same environment so I used the VisPy library for this step.\n",
    "- This serves as a good demonstration of how this algorithm would be well-suited to real-time interactive remeshing; The research paper recommended using GPU-accelerated algorithms and by passing user controlled parameters as uniforms to an openGL shader the user could see a live preview of what their control map looks like. Compute shaders could be run on the maps to generate remeshes in real-time.\n",
    "\n",
    "  Note: Make sure when running the following code blocks that you don't resize any of the renders before they've been exported as the export is based on the window size - If the maps are different sizes it causes issues.\n"
   ]
  },
  {
   "cell_type": "code",
   "execution_count": 13,
   "metadata": {},
   "outputs": [],
   "source": [
    "def buildGLBuffers(uv,f,map):\n",
    "    vertexBuffer = []\n",
    "    colorBuffer = []\n",
    "    if (map.shape[0] == uv.shape[0]):\n",
    "        if (len(map.shape) > 1):\n",
    "            for face in f:\n",
    "                for vert in face:\n",
    "                    vertexBuffer.append(tuple(uv[vert]))\n",
    "                    colorBuffer.append((map[vert][0],map[vert][1],map[vert][2],0))\n",
    "        else:\n",
    "            for face in f:\n",
    "                for vert in face:\n",
    "                    vertexBuffer.append(tuple(uv[vert]))\n",
    "                    colorBuffer.append((map[vert],map[vert],map[vert],0))\n",
    "                \n",
    "    if (map.shape[0] == f.shape[0]):\n",
    "        if (len(map.shape) > 1):\n",
    "            for facei, face in enumerate(f):\n",
    "                for vert in face:\n",
    "                    vertexBuffer.append(tuple(uv[vert]))\n",
    "                    colorBuffer.append((map[facei][0],map[facei][1],map[facei][2],0))\n",
    "                    \n",
    "    return vertexBuffer, colorBuffer"
   ]
  },
  {
   "cell_type": "code",
   "execution_count": 14,
   "metadata": {},
   "outputs": [],
   "source": [
    "class Canvas(app.Canvas):\n",
    "    def __init__(self, size=128):\n",
    "        super().__init__(size=(size, size))\n",
    "\n",
    "        self.program = Program(vertex, fragment, len(vertexBuffer))\n",
    "        self.program['color'] = colorBuffer\n",
    "        self.program['position'] = vertexBuffer\n",
    "        \n",
    "        gloo.set_viewport(0, 0, *self.physical_size)\n",
    "\n",
    "        self.show()\n",
    "\n",
    "    def on_draw(self, event):\n",
    "        gloo.clear()\n",
    "        self.program.draw('triangles')\n",
    "\n",
    "    def on_resize(self, event):\n",
    "        gloo.set_viewport(0, 0, *event.physical_size)\n",
    "\n",
    "mapSize = 128"
   ]
  },
  {
   "cell_type": "code",
   "execution_count": 15,
   "metadata": {},
   "outputs": [
    {
     "name": "stdout",
     "output_type": "stream",
     "text": [
      "Requirement already satisfied: jupyter_rfb in c:\\python312\\lib\\site-packages (0.4.3)\n",
      "Requirement already satisfied: numpy in c:\\users\\phoenix\\appdata\\roaming\\python\\python312\\site-packages (from jupyter_rfb) (1.26.4)\n",
      "Requirement already satisfied: ipywidgets<9,>=7.6.0 in c:\\users\\phoenix\\appdata\\roaming\\python\\python312\\site-packages (from jupyter_rfb) (8.1.2)\n",
      "Requirement already satisfied: jupyterlab-widgets in c:\\users\\phoenix\\appdata\\roaming\\python\\python312\\site-packages (from jupyter_rfb) (3.0.10)\n",
      "Requirement already satisfied: comm>=0.1.3 in c:\\users\\phoenix\\appdata\\roaming\\python\\python312\\site-packages (from ipywidgets<9,>=7.6.0->jupyter_rfb) (0.2.2)\n",
      "Requirement already satisfied: ipython>=6.1.0 in c:\\users\\phoenix\\appdata\\roaming\\python\\python312\\site-packages (from ipywidgets<9,>=7.6.0->jupyter_rfb) (8.23.0)\n",
      "Requirement already satisfied: traitlets>=4.3.1 in c:\\users\\phoenix\\appdata\\roaming\\python\\python312\\site-packages (from ipywidgets<9,>=7.6.0->jupyter_rfb) (5.14.2)\n",
      "Requirement already satisfied: widgetsnbextension~=4.0.10 in c:\\users\\phoenix\\appdata\\roaming\\python\\python312\\site-packages (from ipywidgets<9,>=7.6.0->jupyter_rfb) (4.0.10)\n",
      "Requirement already satisfied: decorator in c:\\users\\phoenix\\appdata\\roaming\\python\\python312\\site-packages (from ipython>=6.1.0->ipywidgets<9,>=7.6.0->jupyter_rfb) (5.1.1)\n",
      "Requirement already satisfied: jedi>=0.16 in c:\\users\\phoenix\\appdata\\roaming\\python\\python312\\site-packages (from ipython>=6.1.0->ipywidgets<9,>=7.6.0->jupyter_rfb) (0.19.1)\n",
      "Requirement already satisfied: matplotlib-inline in c:\\users\\phoenix\\appdata\\roaming\\python\\python312\\site-packages (from ipython>=6.1.0->ipywidgets<9,>=7.6.0->jupyter_rfb) (0.1.6)\n",
      "Requirement already satisfied: prompt-toolkit<3.1.0,>=3.0.41 in c:\\users\\phoenix\\appdata\\roaming\\python\\python312\\site-packages (from ipython>=6.1.0->ipywidgets<9,>=7.6.0->jupyter_rfb) (3.0.43)\n",
      "Requirement already satisfied: pygments>=2.4.0 in c:\\users\\phoenix\\appdata\\roaming\\python\\python312\\site-packages (from ipython>=6.1.0->ipywidgets<9,>=7.6.0->jupyter_rfb) (2.17.2)\n",
      "Requirement already satisfied: stack-data in c:\\users\\phoenix\\appdata\\roaming\\python\\python312\\site-packages (from ipython>=6.1.0->ipywidgets<9,>=7.6.0->jupyter_rfb) (0.6.3)\n",
      "Requirement already satisfied: colorama in c:\\users\\phoenix\\appdata\\roaming\\python\\python312\\site-packages (from ipython>=6.1.0->ipywidgets<9,>=7.6.0->jupyter_rfb) (0.4.6)\n",
      "Requirement already satisfied: parso<0.9.0,>=0.8.3 in c:\\users\\phoenix\\appdata\\roaming\\python\\python312\\site-packages (from jedi>=0.16->ipython>=6.1.0->ipywidgets<9,>=7.6.0->jupyter_rfb) (0.8.4)\n",
      "Requirement already satisfied: wcwidth in c:\\users\\phoenix\\appdata\\roaming\\python\\python312\\site-packages (from prompt-toolkit<3.1.0,>=3.0.41->ipython>=6.1.0->ipywidgets<9,>=7.6.0->jupyter_rfb) (0.2.13)\n",
      "Requirement already satisfied: executing>=1.2.0 in c:\\users\\phoenix\\appdata\\roaming\\python\\python312\\site-packages (from stack-data->ipython>=6.1.0->ipywidgets<9,>=7.6.0->jupyter_rfb) (2.0.1)\n",
      "Requirement already satisfied: asttokens>=2.1.0 in c:\\users\\phoenix\\appdata\\roaming\\python\\python312\\site-packages (from stack-data->ipython>=6.1.0->ipywidgets<9,>=7.6.0->jupyter_rfb) (2.4.1)\n",
      "Requirement already satisfied: pure-eval in c:\\users\\phoenix\\appdata\\roaming\\python\\python312\\site-packages (from stack-data->ipython>=6.1.0->ipywidgets<9,>=7.6.0->jupyter_rfb) (0.2.2)\n",
      "Requirement already satisfied: six>=1.12.0 in c:\\users\\phoenix\\appdata\\roaming\\python\\python312\\site-packages (from asttokens>=2.1.0->stack-data->ipython>=6.1.0->ipywidgets<9,>=7.6.0->jupyter_rfb) (1.16.0)\n",
      "Note: you may need to restart the kernel to use updated packages.\n"
     ]
    },
    {
     "name": "stderr",
     "output_type": "stream",
     "text": [
      "DEPRECATION: Loading egg at c:\\python312\\lib\\site-packages\\vboxapi-1.0-py3.12.egg is deprecated. pip 24.3 will enforce this behaviour change. A possible replacement is to use pip for package installation.. Discussion can be found at https://github.com/pypa/pip/issues/12330\n"
     ]
    }
   ],
   "source": [
    "pip install jupyter_rfb"
   ]
  },
  {
   "cell_type": "code",
   "execution_count": 17,
   "metadata": {},
   "outputs": [
    {
     "name": "stdout",
     "output_type": "stream",
     "text": [
      "Collecting glfw\n",
      "  Downloading glfw-2.7.0-py2.py27.py3.py30.py31.py32.py33.py34.py35.py36.py37.py38-none-win_amd64.whl.metadata (5.4 kB)\n",
      "Downloading glfw-2.7.0-py2.py27.py3.py30.py31.py32.py33.py34.py35.py36.py37.py38-none-win_amd64.whl (493 kB)\n",
      "   ---------------------------------------- 0.0/493.9 kB ? eta -:--:--\n",
      "   -- ------------------------------------- 30.7/493.9 kB 1.3 MB/s eta 0:00:01\n",
      "   -------------------- ------------------- 256.0/493.9 kB 3.9 MB/s eta 0:00:01\n",
      "   -------------------------------------- - 471.0/493.9 kB 4.2 MB/s eta 0:00:01\n",
      "   ---------------------------------------- 493.9/493.9 kB 3.9 MB/s eta 0:00:00\n",
      "Installing collected packages: glfw\n",
      "Successfully installed glfw-2.7.0\n",
      "Note: you may need to restart the kernel to use updated packages.\n"
     ]
    },
    {
     "name": "stderr",
     "output_type": "stream",
     "text": [
      "DEPRECATION: Loading egg at c:\\python312\\lib\\site-packages\\vboxapi-1.0-py3.12.egg is deprecated. pip 24.3 will enforce this behaviour change. A possible replacement is to use pip for package installation.. Discussion can be found at https://github.com/pypa/pip/issues/12330\n"
     ]
    }
   ],
   "source": [
    "pip install glfw"
   ]
  },
  {
   "cell_type": "code",
   "execution_count": 18,
   "metadata": {},
   "outputs": [
    {
     "data": {
      "application/vnd.jupyter.widget-view+json": {
       "model_id": "a19aae5127e540ea811a84112aa61aca",
       "version_major": 2,
       "version_minor": 0
      },
      "text/plain": [
       "RFBOutputContext()"
      ]
     },
     "metadata": {},
     "output_type": "display_data"
    },
    {
     "data": {
      "application/vnd.jupyter.widget-view+json": {
       "model_id": "3fcef1180daa4c30a4694aade42f8278",
       "version_major": 2,
       "version_minor": 0
      },
      "text/html": [
       "<div class='snapshot-3fcef1180daa4c30a4694aade42f8278' style='position:relative;'><img src='data:image/png;base64,iVBORw0KGgoAAAANSUhEUgAAAIAAAACACAYAAADDPmHLAAADBUlEQVR42u3d3W7iMBRF4b7/23KDxO+MTiVLkUtnHLCdfbzXkip6UVEn5wMSGtGvP2Td19ELoGMDgHkAMA8A5gHAPACYBwDzAGAeAMwDgHkAMA8A5gHAPACYBwDzAGAeAMwDgHkAMA8A5gHAPACYBwDzAGAeAMwDgHkAMA8A5gHAPACYBwDzAGAeAMwDgHkAMA8Ag3o+n01fRweAju0ZsAoGAHxYjyEeiQAAbzZiaEcgAMAbjRzUbAQA2NGs4cxEAADRAGDerGcBAAg3AwEAxAOAeQAwb/TLAAASBADzAEDDEAAgSQAwDwADUrgg4+i12gJ4PB7ft/f7/ftWHQMAOlfOr6/Xq/zwy3pHZA+gfO+aLYCovAxkaQRUawAEAPsA0JDKNfwjAkBjcbq4IoIlAcTBXRnW9vt3qk8XV0OwJIAypNvt1uVIP+7vfD4DIEu9h1SeRcrtSgiWBFDqNaz6TSMAmAUA81Z+2xgADZXX/0/PKBQDQEMx9HgfoHytFAAaCgCn02m5R38EgP+04tC3AaChlRHYANhe+dPysS4rn/ptSwGg184vg4yj+cvl8vJ+y9H+9ud7rkEteQC9d3z9yK+fDWL48TeEV2tYEYE0gNGfw1MP/rfzfIWPcxuVJYDt/e8Z7vblY5VkAcx6pO35Pdtni1WyB+CeJIAsw8+yzn8FgA/XmWWtvyUHINtOzbbeOkkA2cp8igiATmvOikAKQMYdWK9d5f8AtAaAzmvPBkEOQObq9WdAAIDO68+2DQDovP5s2wCAjmvdC0BhewHQef2tCFSeLQDQef2tf1YGwIsUdkiPbWgFoJAUgEhlx4zaBqVHfwSAydumNPwIABO3S234kSQAtZ306baoDj+SAxAp7qhVkwQQgWBO0gBAMD5ZABEIxicNIFI+gFoheQCR+pF05lIAKGU4rcpWKgDbsl16pVpaAHUt1+SB42fLAKD3AoB5ADAPAOYBwDwAmAcA8wBgHgDMA4B5ADAPAOYBwDwAmAcA8wBgHgDMA4B5ADAPAOYBwLy/oC4KZtqgKp0AAAAASUVORK5CYII=' style='width:128.0px;height:128.0px;' /><div style='position: absolute; top:0; left:0; padding:1px 3px; background: #777; color:#fff; font-size: 90%; font-family:sans-serif; '>snapshot</div></div>"
      ],
      "text/plain": [
       "CanvasBackend(css_height='128px', css_width='128px')"
      ]
     },
     "execution_count": 18,
     "metadata": {},
     "output_type": "execute_result"
    }
   ],
   "source": [
    "vertex = \"\"\"\n",
    "    attribute vec4 color;\n",
    "    attribute vec2 position;\n",
    "    varying vec4 v_color;\n",
    "    void main()\n",
    "    {\n",
    "        gl_Position = vec4(position, 0.0, 1.0);\n",
    "        v_color = vec4(1,1,1,1)-color;\n",
    "    } \"\"\"\n",
    "\n",
    "fragment = \"\"\"\n",
    "    varying vec4 v_color;\n",
    "    void main()\n",
    "    {\n",
    "        gl_FragColor = v_color;\n",
    "    } \"\"\"\n",
    "\n",
    "vertexBuffer, colorBuffer =  buildGLBuffers(uv,f,controlMap)\n",
    "\n",
    "c = Canvas(mapSize)\n",
    "c"
   ]
  },
  {
   "cell_type": "code",
   "execution_count": 19,
   "metadata": {},
   "outputs": [],
   "source": [
    "img=c.render('triangle_strip')\n",
    "vispy.io.image.write_png(\"controlMap.png\", img)"
   ]
  },
  {
   "cell_type": "code",
   "execution_count": 20,
   "metadata": {},
   "outputs": [
    {
     "data": {
      "application/vnd.jupyter.widget-view+json": {
       "model_id": "fa0bf1b13a014ff586ba1cd52a935acd",
       "version_major": 2,
       "version_minor": 0
      },
      "text/plain": [
       "RFBOutputContext()"
      ]
     },
     "metadata": {},
     "output_type": "display_data"
    },
    {
     "data": {
      "application/vnd.jupyter.widget-view+json": {
       "model_id": "ebea5bceea0f44188ce1e739214f7240",
       "version_major": 2,
       "version_minor": 0
      },
      "text/html": [
       "<div class='snapshot-ebea5bceea0f44188ce1e739214f7240' style='position:relative;'><img src='data:image/png;base64,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' style='width:128.0px;height:128.0px;' /><div style='position: absolute; top:0; left:0; padding:1px 3px; background: #777; color:#fff; font-size: 90%; font-family:sans-serif; '>snapshot</div></div>"
      ],
      "text/plain": [
       "CanvasBackend(css_height='128px', css_width='128px')"
      ]
     },
     "execution_count": 20,
     "metadata": {},
     "output_type": "execute_result"
    }
   ],
   "source": [
    "vertex = \"\"\"\n",
    "    attribute vec4 color;\n",
    "    attribute vec2 position;\n",
    "    varying vec4 v_color;\n",
    "    void main()\n",
    "    {\n",
    "        gl_Position = vec4(position, 0.0, 1.0);\n",
    "        v_color = vec4(color.rgb,1);\n",
    "    } \"\"\"\n",
    "\n",
    "fragment = \"\"\"\n",
    "    varying vec4 v_color;\n",
    "    void main()\n",
    "    {\n",
    "        gl_FragColor = v_color;\n",
    "    } \"\"\"\n",
    "\n",
    "vertexBuffer, colorBuffer = buildGLBuffers(uv,f,face_index_list)\n",
    "\n",
    "c = Canvas(mapSize)\n",
    "c"
   ]
  },
  {
   "cell_type": "code",
   "execution_count": 21,
   "metadata": {},
   "outputs": [],
   "source": [
    "img=c.render('triangle_strip')\n",
    "vispy.io.image.write_png(\"faceIndexMap.png\", img)"
   ]
  },
  {
   "cell_type": "code",
   "execution_count": 22,
   "metadata": {},
   "outputs": [
    {
     "data": {
      "application/vnd.jupyter.widget-view+json": {
       "model_id": "378f1cd4286649d2a7f7d80181f59cfd",
       "version_major": 2,
       "version_minor": 0
      },
      "text/plain": [
       "RFBOutputContext()"
      ]
     },
     "metadata": {},
     "output_type": "display_data"
    },
    {
     "data": {
      "application/vnd.jupyter.widget-view+json": {
       "model_id": "6126983666e649dab3441d621fd61ac1",
       "version_major": 2,
       "version_minor": 0
      },
      "text/html": [
       "<div class='snapshot-6126983666e649dab3441d621fd61ac1' style='position:relative;'><img src='data:image/png;base64,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' style='width:128.0px;height:128.0px;' /><div style='position: absolute; top:0; left:0; padding:1px 3px; background: #777; color:#fff; font-size: 90%; font-family:sans-serif; '>snapshot</div></div>"
      ],
      "text/plain": [
       "CanvasBackend(css_height='128px', css_width='128px')"
      ]
     },
     "execution_count": 22,
     "metadata": {},
     "output_type": "execute_result"
    }
   ],
   "source": [
    "vertex = \"\"\"\n",
    "    attribute vec4 color;\n",
    "    attribute vec2 position;\n",
    "    varying vec4 v_color;\n",
    "    void main()\n",
    "    {\n",
    "        gl_Position = vec4(position, 0.0, 1.0);\n",
    "        v_color = vec4(color.rgb,1);\n",
    "    } \"\"\"\n",
    "\n",
    "fragment = \"\"\"\n",
    "    varying vec4 v_color;\n",
    "    void main()\n",
    "    {\n",
    "        gl_FragColor = v_color;\n",
    "    } \"\"\"\n",
    "\n",
    "vertexBuffer, colorBuffer = buildGLBuffers(uv,f,xMap)\n",
    "c = Canvas(mapSize)\n",
    "c"
   ]
  },
  {
   "cell_type": "code",
   "execution_count": 23,
   "metadata": {},
   "outputs": [],
   "source": [
    "img=c.render('triangle_strip')\n",
    "vispy.io.image.write_png(\"xMap.png\", img)"
   ]
  },
  {
   "cell_type": "code",
   "execution_count": null,
   "metadata": {},
   "outputs": [],
   "source": [
    "vertexBuffer, colorBuffer = buildGLBuffers(uv,f,yMap)\n",
    "c = Canvas(mapSize)\n",
    "c"
   ]
  },
  {
   "cell_type": "code",
   "execution_count": null,
   "metadata": {},
   "outputs": [],
   "source": [
    "img=c.render('triangle_strip')\n",
    "vispy.io.image.write_png(\"yMap.png\", img)"
   ]
  },
  {
   "cell_type": "code",
   "execution_count": null,
   "metadata": {},
   "outputs": [],
   "source": [
    "vertexBuffer, colorBuffer = buildGLBuffers(uv,f,zMap)\n",
    "c = Canvas(mapSize)\n",
    "c"
   ]
  },
  {
   "cell_type": "code",
   "execution_count": null,
   "metadata": {},
   "outputs": [],
   "source": [
    "img=c.render('triangle_strip')\n",
    "vispy.io.image.write_png(\"zMap.png\", img)"
   ]
  },
  {
   "cell_type": "markdown",
   "metadata": {},
   "source": [
    "## Discretize the Control Map with an Error-Diffusion Dithering Algorithm\n",
    "\n",
    "- Using a dithering algorithm on the control map, we generate a set of sampling points for creating the new set of vertices for the remesh.\n",
    "- For full transparency, I started with this Floyd-Steinberg dithering code from https://github.com/10mrohit/floyd-steinberg-dithering by 10mrohit on github, and then modified it to fit the purposes of this project.\n",
    "- Made to work more like  \"A Simple and Efficient Error-Diffusion Algorithm\" by Victor Ostromoukhov, which is the algorithm recommended in \"Interactive Geometry Remeshing\"\n",
    "\n",
    "  Dither() is called like so: ```Dither(\"controlMap.png\", output=\"discreteControlMap.png\", level=75, intensity=1)```\n",
    "\n",
    "  - Set ```level``` to an integer from 0 to 127 and adjust if necessary to reduce artifacts in the output - it selects a set of coefficients from a hardcoded list of 128 smoothly interpolated sets.\n",
    "  - Set ```Intensity``` to a float at or around 1 to adjust the number of samples. Any values under 0.95 will start to create a lot of artifacts and you are better off adjusting the input control map to a smaller size if you want even less samples."
   ]
  },
  {
   "cell_type": "code",
   "execution_count": null,
   "metadata": {},
   "outputs": [],
   "source": [
    "class Dither():\n",
    "    def __init__(self, path, level=1, intensity=1, algorithm=None, output=None):\n",
    "        self.distribution = np.array([\n",
    "            [13, 0, 5],[13, 0, 5],[21, 0, 10],[7, 0, 4],[8, 0, 5],[47, 3, 28],[23, 3, 13],\n",
    "            [15, 3, 8],[22, 6, 11],[43, 15, 20],[7, 3, 3],[501, 224, 211],[249, 116, 103],\n",
    "            [165, 80, 67],[123, 62, 49],[489, 256, 191],[81, 44, 31],[483, 272, 181],[60, 35, 22],\n",
    "            [53, 32, 19],[237, 148, 83],[471, 304, 161],[3, 2, 1],[481, 314, 185],[354, 226, 155],\n",
    "            [1389, 866, 685],[227, 138, 125],[267, 158, 163],[327, 188, 220],[61, 34, 45],[627, 338, 505],\n",
    "            [1227, 638, 1075],[20, 10, 19],[1937, 1000, 1767],[977, 520, 855],[657, 360, 551],[71, 40, 57],\n",
    "            [2005, 1160, 1539],[337, 200, 247],[2039, 1240, 1425],[257, 160, 171],[691, 440, 437],[1045, 680, 627],\n",
    "            [301, 200, 171],[177, 120, 95],[2141, 1480, 1083],[1079, 760, 513],[725, 520, 323],[137, 100, 57],[2209, 1640, 855],\n",
    "            [53, 40, 19],[2243, 1720, 741],[565, 440, 171],[759, 600, 209],[1147, 920, 285],[2311, 1880, 513],[97, 80, 19],\n",
    "            [335, 280, 57],[1181, 1000, 171],[793, 680, 95],[599, 520, 57],[2413, 2120, 171],[405, 360, 19],[2447, 2200, 57],\n",
    "            [11, 10, 0],[158, 151, 3],[178, 179, 7],[1030, 1091, 63],[248, 277, 21],[318, 375, 35],[458, 571, 63],[878, 1159, 147],\n",
    "            [5, 7, 1],[172, 181, 37],[97, 76, 22],[72, 41, 17],[119, 47, 29],[4, 1, 1],[4, 1, 1],[4, 1, 1],[4, 1, 1],[4, 1, 1],\n",
    "            [4, 1, 1],[4, 1, 1],[4, 1, 1],[4, 1, 1],[65, 18, 17],[95, 29, 26],[185, 62, 53],[30, 11, 9],[35, 14, 11],[85, 37, 28],\n",
    "            [55, 26, 19],[80, 41, 29],[155, 86, 59],[5, 3, 2],[5, 3, 2],[5, 3, 2],[5, 3, 2],[5, 3, 2],[5, 3, 2],[5, 3, 2],[5, 3, 2],\n",
    "            [5, 3, 2],[5, 3, 2],[5, 3, 2],[5, 3, 2],[5, 3, 2],[305, 176, 119],[155, 86, 59],[105, 56, 39],[80, 41, 29],[65, 32, 23],\n",
    "            [55, 26, 19],[335, 152, 113],[85, 37, 28],[115, 48, 37],[35, 14, 11],[355, 136, 109],[30, 11, 9],[365, 128, 107],[185, 62, 53],\n",
    "            [25, 8, 7],[95, 29, 26],[385, 112, 103],[65, 18, 17],[395, 104, 101],[4, 1, 1]\n",
    "        ])\n",
    "        self.intensity = intensity\n",
    "        self.distCoeffs = (1/np.sum(self.distribution[level])) * self.distribution[level]\n",
    "        self.path = self.get_path(path)\n",
    "        self.algorithm = algorithm\n",
    "        self.output = output\n",
    "        self.func = self.get_func(self.algorithm)\n",
    "        self.func(self.path)\n",
    "\n",
    "    def get_path(self, path):\n",
    "        if path.startswith('/') and not path.startswith('~/'):\n",
    "            return os.getcwd() + '/' + path\n",
    "        else:\n",
    "            return path\n",
    "\n",
    "    def get_func(self, algorithm):\n",
    "        return self.floyd_steinberg_dither\n",
    "\n",
    "    def apply_threshold(self, value):\n",
    "        return 255 * math.floor(value/128)\n",
    "\n",
    "    def floyd_steinberg_dither(self, image_file):\n",
    "        samples = 0\n",
    "        d10 = self.distCoeffs[0]\n",
    "        d01 = self.distCoeffs[1]\n",
    "        dn11 = self.distCoeffs[2]\n",
    "        new_img = Image.open(image_file)\n",
    "\n",
    "        new_img = new_img.convert('RGB')\n",
    "        pixel = new_img.load()\n",
    "        \n",
    "        x_lim, y_lim = new_img.size\n",
    "        \n",
    "        for y in range(1, y_lim):\n",
    "            for x in range(1, x_lim):\n",
    "                pixel[x, y] = (int(pixel[x, y][0] * (1/self.intensity)),0,0)\n",
    "                \n",
    "        for y in range(1, y_lim):\n",
    "            for x in range(1, x_lim):\n",
    "                oldpixel, _, _ = pixel[x, y]\n",
    "                newpixel = self.apply_threshold(oldpixel)\n",
    "                pixel[x, y] = newpixel, newpixel, newpixel\n",
    "                error = oldpixel - newpixel\n",
    "            \n",
    "                if x < x_lim - 1:\n",
    "                    value = pixel[x+1, y][0] + round(error * d10)\n",
    "                    pixel[x+1, y] = (value, value, value)\n",
    "\n",
    "                if x > 1 and y < y_lim - 1:\n",
    "                    value = pixel[x-1, y+1][0] + round(error * d01)\n",
    "                    pixel[x-1, y+1] = (value, value, value)\n",
    "\n",
    "                if y < y_lim - 1:\n",
    "                    value = pixel[x, y+1][0] + round(error * dn11)\n",
    "                    pixel[x, y+1] = (value, value, value)\n",
    "\n",
    "                if pixel[x, y][0] == 0:\n",
    "                    samples +=1\n",
    "        print(\"Samples:\",samples)\n",
    "        if self.output:\n",
    "            new_img.save(self.output)\n",
    "            display(new_img)\n",
    "        else:\n",
    "            new_img.show()\n"
   ]
  },
  {
   "cell_type": "code",
   "execution_count": null,
   "metadata": {},
   "outputs": [],
   "source": [
    "Dither(\"controlMap.png\", output=\"discreteControlMap.png\", level=30, intensity=1)"
   ]
  },
  {
   "cell_type": "markdown",
   "metadata": {},
   "source": [
    "## Generate List of Vertices Based on Discretized Control Map and Triangulate with Delauney Algorithm"
   ]
  },
  {
   "cell_type": "code",
   "execution_count": null,
   "metadata": {},
   "outputs": [],
   "source": [
    "def imageToMapCoords(imgX,imgY,height,width):\n",
    "    x = (imgX*2-width) / width\n",
    "    y = -(imgY*2-height) / height\n",
    "    return x,y\n",
    "\n",
    "def mapToImageCoords(mapX, mapY, height, width):\n",
    "    x = (mapX + 1)/2 * width\n",
    "    y = (-mapY + 1)/2 * height\n",
    "    x = min(int(x), width-1)\n",
    "    y = min(int(y), height-1)\n",
    "    return x,y\n",
    "    \n",
    "def uvFromControlMap(filename):\n",
    "    newUV = []\n",
    "    im = np.array(Image.open(filename))\n",
    "    for y in range(im.shape[0]):\n",
    "        for x in range(im.shape[1]):\n",
    "            if (im[y,x,0] == 0):\n",
    "                u,v=imageToMapCoords(x,y,im.shape[0],im.shape[1])\n",
    "                newUV.append([u,v])\n",
    "    return np.array(newUV)\n",
    "            \n",
    "def featureGraph(v,f):\n",
    "    feature_edge_list, _ = feature_edges(v,f,20)\n",
    "    bnd = igl.boundary_loop(f)\n",
    "    feature_graph = igl.map_vertices_to_circle(v, bnd)\n",
    "    feature_graph = np.array([circle_to_square(x_circ,y_circ) for [x_circ,y_circ] in feature_graph])\n",
    "    for coord in uv[feature_edge_list]:\n",
    "        feature_graph = np.append(feature_graph, coord, axis=0)\n",
    "    return feature_graph\n",
    "    \n",
    "\n",
    "\n",
    "remeshUV=uvFromControlMap(\"discreteControlMap.png\")\n",
    "feature_graph = featureGraph(v,f)\n",
    "\n",
    "remeshUV = np.append(remeshUV, feature_graph, axis=0)\n",
    "remeshF = sp.spatial.Delaunay(remeshUV).simplices\n",
    "\n",
    "p=mp.plot(remeshUV, remeshF, shading={\"wireframe\": 1, \"line_width\":0.9})\n",
    "p.add_points(remeshUV, shading={\"point_size\": .06, \"point_color\": \"black\"})"
   ]
  },
  {
   "cell_type": "markdown",
   "metadata": {},
   "source": [
    "## Optimize 2D Mesh\n",
    "\n",
    "### 1. Geometry Optimization with Laplacian Flow"
   ]
  },
  {
   "cell_type": "code",
   "execution_count": null,
   "metadata": {},
   "outputs": [],
   "source": [
    "def laplacianFlow(uvCoords, uvF, features):\n",
    "    adj_list = igl.adjacency_list(uvF)\n",
    "    for i in range(len(adj_list)):\n",
    "        p = uvCoords[i]\n",
    "        deltaT = 0.3\n",
    "        if p not in features:\n",
    "            lapFlow = np.array([0,0])\n",
    "    \n",
    "            w = 1/len(adj_list[i])\n",
    "            \n",
    "            for adjVi in adj_list[i]:\n",
    "                adjV = uvCoords[adjVi]\n",
    "                w = w                               # fix weight function\n",
    "                lapFlow = lapFlow + w * (adjV - p)\n",
    "            uvCoords[i] = p + deltaT*lapFlow\n",
    "    return uvCoords"
   ]
  },
  {
   "cell_type": "markdown",
   "metadata": {},
   "source": [
    "### 2. Connectivity Optimization with Edge Swaps"
   ]
  },
  {
   "cell_type": "code",
   "execution_count": null,
   "metadata": {},
   "outputs": [],
   "source": [
    "def edgeSwaps(uvCoords, uvF, features, numSwaps):\n",
    "    bnd_edges = igl.exterior_edges(uvF)\n",
    "    adj_list = igl.adjacency_list(uvF)\n",
    "    edgeList, _, edgeFaceTop = igl.edge_topology(uvCoords, uvF)\n",
    "    \n",
    "    for i in range(numSwaps):\n",
    "        edge = edgeList[random.randint(0,len(edgeList)-1)]\n",
    "        edgeV0 = uvCoords[edge[0]]\n",
    "        edgeV1 = uvCoords[edge[1]]\n",
    "\n",
    "        if edge in bnd_edges:\n",
    "            continue\n",
    "        elif edge in features:\n",
    "            continue\n",
    "        elif (edgeV0 in features) and (edgeV1 in features):\n",
    "            continue\n",
    "        else:\n",
    "            edgeV0Adj = adj_list[edge[0]]\n",
    "            edgeV1Adj = adj_list[edge[1]]\n",
    "            \n",
    "            oppEdge = []\n",
    "            for adjV in edgeV0Adj:\n",
    "                if adjV in edgeV1Adj:\n",
    "                    oppEdge.append(adjV)\n",
    "  \n",
    "            edgeV0AdjVal = len(edgeV0Adj)\n",
    "            edgeV1AdjVal = len(edgeV1Adj)\n",
    "            oppEdgeV0Val = len(adj_list[oppEdge[0]])\n",
    "            oppEdgeV1Val = len(adj_list[oppEdge[1]])\n",
    "\n",
    "            if (edgeV0AdjVal+edgeV1AdjVal > oppEdgeV0Val+oppEdgeV1Val):\n",
    "                edgeFaces = edgeFaceTop[i]\n",
    "    \n",
    "                v0 = uvF[edgeFaces][0][0]\n",
    "                v1 = uvF[edgeFaces][0][1]\n",
    "                v2 = uvF[edgeFaces][0][2]\n",
    "\n",
    "                for vn in  uvF[edgeFaces][0]:\n",
    "                    if vn not in uvF[edgeFaces][1]:\n",
    "                        v3 = vn\n",
    "\n",
    "                uvF[edgeFaces][0] = [v0,v2,v3]\n",
    "                uvF[edgeFaces][1] = [v2,v3,v1]\n",
    "                adj_list = igl.adjacency_list(uvF)\n",
    "                edgeList, _, edgeFaceTop = igl.edge_topology(uvCoords, uvF)            \n",
    "    return uvF"
   ]
  },
  {
   "cell_type": "markdown",
   "metadata": {},
   "source": [
    "### 3. Combine Optimization Algorithms to Obtain Desirable Mesh\n",
    "```edgeSwaps()``` and ```laplacianFlow()``` can be performed iteratively to the user's liking."
   ]
  },
  {
   "cell_type": "code",
   "execution_count": null,
   "metadata": {},
   "outputs": [],
   "source": [
    "feature_edge_list, _ = feature_edges(v,f,20)\n",
    "remeshF = edgeSwaps(remeshUV, remeshF, feature_edge_list,300)\n",
    "remeshUV = laplacianFlow(remeshUV, remeshF, feature_graph)\n",
    "    \n",
    "p=mp.plot(remeshUV, remeshF, shading={\"wireframe\": 1, \"line_width\":0.9})"
   ]
  },
  {
   "cell_type": "markdown",
   "metadata": {},
   "source": [
    "## Convert 2D UV Coordinates to 3D Using Embedding Maps\n",
    "\n",
    "Note that the embedding maps have limited resolution so this solution results in a fair bit of distortion. If one used a face index map for quick lookups and then calculated positions based on barycentric coordinates within faces, much higher resolution could be achieved. I ran into issues preserving "
   ]
  },
  {
   "cell_type": "code",
   "execution_count": null,
   "metadata": {},
   "outputs": [],
   "source": [
    "def uvMapToXYZ(uvCoords, v, xMapImg, yMapImg, zMapImg):\n",
    "    newV = []\n",
    "    Xim = np.array(Image.open(xMapImg))\n",
    "    Yim = np.array(Image.open(yMapImg))\n",
    "    Zim = np.array(Image.open(zMapImg))\n",
    "\n",
    "    xRange = max(v[:,0]) - min(v[:,0])\n",
    "    yRange = max(v[:,1]) - min(v[:,1])\n",
    "    zRange = max(v[:,2]) - min(v[:,2])\n",
    "    \n",
    "    for [xMap, yMap] in uvCoords:\n",
    "        imX, imY = mapToImageCoords(xMap, yMap, Xim.shape[0], Xim.shape[1])\n",
    "        uvXYZ = [xRange*np.sum(Xim[imY,imX]),\n",
    "                 yRange*np.sum(Yim[imY,imX]),\n",
    "                 zRange*np.sum(Zim[imY,imX])]\n",
    "        newV.append(uvXYZ)\n",
    "\n",
    "    return (1/255)*np.array(newV)\n",
    "\n",
    "\n",
    "remeshV = uvMapToXYZ(remeshUV, v, \"xMap.png\", \"yMap.png\", \"zMap.png\")\n",
    "p=mp.plot(remeshV, remeshF, shading={\"wireframe\": 1, \"line_width\":0.2})"
   ]
  }
 ],
 "metadata": {
  "kernelspec": {
   "display_name": "Python (myenv)",
   "language": "python",
   "name": "myenv"
  },
  "language_info": {
   "codemirror_mode": {
    "name": "ipython",
    "version": 3
   },
   "file_extension": ".py",
   "mimetype": "text/x-python",
   "name": "python",
   "nbconvert_exporter": "python",
   "pygments_lexer": "ipython3",
   "version": "3.12.0"
  }
 },
 "nbformat": 4,
 "nbformat_minor": 4
}
